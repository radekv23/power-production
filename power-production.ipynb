{
 "cells": [
  {
   "cell_type": "markdown",
   "metadata": {},
   "source": [
    "\n",
    "\n",
    "# Power Production Project for *Fundamentals of Data Analysis* at GMIT\n",
    "by Radek Wojtczak G00352936<br>\n",
    "\n",
    "\n",
    "**Instructions:**\n",
    "\n",
    ">In this project you must perform and explain simple linear regression using Python\n",
    "on the powerproduction dataset. The goal is to accurately predict wind turbine power output from wind speed values using the data set as a basis.\n",
    "Your submission must be in the form of a git repository containing, at a minimum, the\n",
    "following items:\n",
    ">1. Jupyter notebook that performs simple linear regression on the data set.\n",
    ">2. In that notebook, an explanation of your regression and an analysis of its accuracy.\n",
    ">3. Standard items in a git repository such as a README.\n",
    "\n",
    ">To enhance your submission, you might consider comparing simple linear regression to\n",
    "other types of regression on this data set.\n"
   ]
  },
  {
   "cell_type": "markdown",
   "metadata": {},
   "source": [
    "# Wind power\n",
    "\n",
    "\n",
    "\n",
    "**How does a wind turbine work?**\n",
    "\n",
    "Wind turbines can turn the power of wind into the electricity we all use to power our homes and businesses. They can be stand-alone, supplying just one or a very small number of homes or businesses, or they can be clustered to form part of a wind farm. \n",
    "\n",
    "The visible parts of the wind farm that we’re all used to seeing – those towering white or pale grey turbines. Each of these turbines consists of a set of blades, a box beside them called a nacelle and a shaft. The wind – and this can be just a gentle breeze – makes the blades spin, creating kinetic energy. The blades rotating in this way then also make the shaft in the nacelle turn and a generator in the nacelle converts this kinetic energy into electrical energy.\n",
    "\n",
    "![How it works](img/works.jpg) \n",
    "\n",
    "**What happens to the wind-turbine generated electricity next?**\n",
    "\n",
    "To connect to the national grid, the electrical energy is then passed through a transformer on the site that increases the voltage to that used by the national electricity system. It’s at this stage that the electricity usually moves onto the National Grid transmission network, ready to then be passed on so that, eventually, it can be used in homes and businesses. Alternatively, a wind farm or a single wind turbine can generate electricity that is used privately by an individual or small set of homes or businesses.\n",
    " \n",
    "\n",
    "**How strong does the wind need to be for a wind turbine to work?**\n",
    "\n",
    "Wind turbines can operate in anything from very light to very strong wind speeds. They generate around 80% of the time, but not always at full capacity. In really high winds they shut down to prevent damage.\n",
    "\n",
    "![Frequency](img/freq.png)\n",
    "\n",
    "**Where are wind farms located?**\n",
    "\n",
    "Wind farms tend to be located in the windiest places possible, to maximise the energy they can create – this is why you’ll be more likely to see them on hillsides or at the coast. Wind farms that are in the sea are called offshore wind farms, whereas those on dry land are termed onshore wind farms."
   ]
  },
  {
   "cell_type": "markdown",
   "metadata": {},
   "source": [
    "**Wind energy in Ireland**\n",
    "\n",
    "Wind energy is currently the largest contributing resource of renewable energy in Ireland. It is both Ireland’s largest and cheapest renewable electricity resource. In 2018 Wind provided 85% of Ireland’s renewable electricity and 30% of our total electricity demand. It is the second greatest source of electricity generation in Ireland after natural gas. Ireland is one of the leading countries in its use of wind energy and 3rd place worldwide in 2018, after Denmark and Uruguay.\n",
    "\n",
    "![Windfarms in Ireland](img/map.jpg)"
   ]
  },
  {
   "cell_type": "markdown",
   "metadata": {},
   "source": [
    "### Exploring dataset:"
   ]
  },
  {
   "cell_type": "code",
   "execution_count": 1,
   "metadata": {},
   "outputs": [],
   "source": [
    "# importing all necessary packages\n",
    "import pandas as pd\n",
    "import numpy as np\n",
    "import matplotlib.pyplot as plt\n",
    "from sklearn import linear_model as lm\n",
    "from sklearn.model_selection import train_test_split\n",
    "from sklearn.linear_model import LinearRegression\n",
    "import seaborn as sns \n",
    "from sklearn import metrics \n",
    "from sklearn.linear_model import LogisticRegression\n",
    "from sklearn.metrics import r2_score\n",
    "from sklearn.preprocessing import LabelEncoder\n",
    "from sklearn.preprocessing import PolynomialFeatures\n",
    "from matplotlib import pyplot"
   ]
  },
  {
   "cell_type": "code",
   "execution_count": 2,
   "metadata": {},
   "outputs": [
    {
     "data": {
      "text/html": [
       "<div>\n",
       "<style scoped>\n",
       "    .dataframe tbody tr th:only-of-type {\n",
       "        vertical-align: middle;\n",
       "    }\n",
       "\n",
       "    .dataframe tbody tr th {\n",
       "        vertical-align: top;\n",
       "    }\n",
       "\n",
       "    .dataframe thead th {\n",
       "        text-align: right;\n",
       "    }\n",
       "</style>\n",
       "<table border=\"1\" class=\"dataframe\">\n",
       "  <thead>\n",
       "    <tr style=\"text-align: right;\">\n",
       "      <th></th>\n",
       "      <th>speed</th>\n",
       "      <th>power</th>\n",
       "    </tr>\n",
       "  </thead>\n",
       "  <tbody>\n",
       "    <tr>\n",
       "      <th>1</th>\n",
       "      <td>0.000</td>\n",
       "      <td>0.000</td>\n",
       "    </tr>\n",
       "    <tr>\n",
       "      <th>2</th>\n",
       "      <td>0.125</td>\n",
       "      <td>0.000</td>\n",
       "    </tr>\n",
       "    <tr>\n",
       "      <th>3</th>\n",
       "      <td>0.150</td>\n",
       "      <td>0.000</td>\n",
       "    </tr>\n",
       "    <tr>\n",
       "      <th>4</th>\n",
       "      <td>0.225</td>\n",
       "      <td>0.000</td>\n",
       "    </tr>\n",
       "    <tr>\n",
       "      <th>5</th>\n",
       "      <td>0.275</td>\n",
       "      <td>0.000</td>\n",
       "    </tr>\n",
       "    <tr>\n",
       "      <th>...</th>\n",
       "      <td>...</td>\n",
       "      <td>...</td>\n",
       "    </tr>\n",
       "    <tr>\n",
       "      <th>496</th>\n",
       "      <td>24.775</td>\n",
       "      <td>0.000</td>\n",
       "    </tr>\n",
       "    <tr>\n",
       "      <th>497</th>\n",
       "      <td>24.850</td>\n",
       "      <td>0.000</td>\n",
       "    </tr>\n",
       "    <tr>\n",
       "      <th>498</th>\n",
       "      <td>24.875</td>\n",
       "      <td>0.000</td>\n",
       "    </tr>\n",
       "    <tr>\n",
       "      <th>499</th>\n",
       "      <td>24.950</td>\n",
       "      <td>0.000</td>\n",
       "    </tr>\n",
       "    <tr>\n",
       "      <th>500</th>\n",
       "      <td>25.000</td>\n",
       "      <td>0.000</td>\n",
       "    </tr>\n",
       "  </tbody>\n",
       "</table>\n",
       "<p>500 rows × 2 columns</p>\n",
       "</div>"
      ],
      "text/plain": [
       "      speed  power\n",
       "1     0.000  0.000\n",
       "2     0.125  0.000\n",
       "3     0.150  0.000\n",
       "4     0.225  0.000\n",
       "5     0.275  0.000\n",
       "..      ...    ...\n",
       "496  24.775  0.000\n",
       "497  24.850  0.000\n",
       "498  24.875  0.000\n",
       "499  24.950  0.000\n",
       "500  25.000  0.000\n",
       "\n",
       "[500 rows x 2 columns]"
      ]
     },
     "execution_count": 2,
     "metadata": {},
     "output_type": "execute_result"
    }
   ],
   "source": [
    "# loading our dataset, seting columns names and changing index to start from 1 instead of 0\n",
    "df = pd.read_csv('dataset/powerproduction.txt', sep=\",\", header=None)\n",
    "df.columns = [\"speed\", \"power\"]\n",
    "df = df[1:]\n",
    "df"
   ]
  },
  {
   "cell_type": "code",
   "execution_count": 3,
   "metadata": {},
   "outputs": [
    {
     "data": {
      "text/plain": [
       "speed    0\n",
       "power    0\n",
       "dtype: int64"
      ]
     },
     "execution_count": 3,
     "metadata": {},
     "output_type": "execute_result"
    }
   ],
   "source": [
    "# checking for nan values\n",
    "count_nan = len(df) - df.count()\n",
    "count_nan"
   ]
  },
  {
   "cell_type": "code",
   "execution_count": 4,
   "metadata": {},
   "outputs": [],
   "source": [
    "# Converting Strings to Floats\n",
    "df = df.astype(float)"
   ]
  },
  {
   "cell_type": "code",
   "execution_count": 5,
   "metadata": {},
   "outputs": [
    {
     "data": {
      "text/html": [
       "<div>\n",
       "<style scoped>\n",
       "    .dataframe tbody tr th:only-of-type {\n",
       "        vertical-align: middle;\n",
       "    }\n",
       "\n",
       "    .dataframe tbody tr th {\n",
       "        vertical-align: top;\n",
       "    }\n",
       "\n",
       "    .dataframe thead th {\n",
       "        text-align: right;\n",
       "    }\n",
       "</style>\n",
       "<table border=\"1\" class=\"dataframe\">\n",
       "  <thead>\n",
       "    <tr style=\"text-align: right;\">\n",
       "      <th></th>\n",
       "      <th>speed</th>\n",
       "      <th>power</th>\n",
       "    </tr>\n",
       "  </thead>\n",
       "  <tbody>\n",
       "    <tr>\n",
       "      <th>1</th>\n",
       "      <td>0.000</td>\n",
       "      <td>0.000</td>\n",
       "    </tr>\n",
       "    <tr>\n",
       "      <th>2</th>\n",
       "      <td>0.125</td>\n",
       "      <td>0.000</td>\n",
       "    </tr>\n",
       "    <tr>\n",
       "      <th>3</th>\n",
       "      <td>0.150</td>\n",
       "      <td>0.000</td>\n",
       "    </tr>\n",
       "    <tr>\n",
       "      <th>4</th>\n",
       "      <td>0.225</td>\n",
       "      <td>0.000</td>\n",
       "    </tr>\n",
       "    <tr>\n",
       "      <th>5</th>\n",
       "      <td>0.275</td>\n",
       "      <td>0.000</td>\n",
       "    </tr>\n",
       "    <tr>\n",
       "      <th>6</th>\n",
       "      <td>0.325</td>\n",
       "      <td>4.331</td>\n",
       "    </tr>\n",
       "    <tr>\n",
       "      <th>7</th>\n",
       "      <td>0.400</td>\n",
       "      <td>5.186</td>\n",
       "    </tr>\n",
       "    <tr>\n",
       "      <th>8</th>\n",
       "      <td>0.450</td>\n",
       "      <td>3.826</td>\n",
       "    </tr>\n",
       "    <tr>\n",
       "      <th>9</th>\n",
       "      <td>0.501</td>\n",
       "      <td>1.048</td>\n",
       "    </tr>\n",
       "    <tr>\n",
       "      <th>10</th>\n",
       "      <td>0.526</td>\n",
       "      <td>5.553</td>\n",
       "    </tr>\n",
       "    <tr>\n",
       "      <th>11</th>\n",
       "      <td>0.551</td>\n",
       "      <td>6.498</td>\n",
       "    </tr>\n",
       "    <tr>\n",
       "      <th>12</th>\n",
       "      <td>0.576</td>\n",
       "      <td>5.241</td>\n",
       "    </tr>\n",
       "    <tr>\n",
       "      <th>13</th>\n",
       "      <td>0.626</td>\n",
       "      <td>4.220</td>\n",
       "    </tr>\n",
       "    <tr>\n",
       "      <th>14</th>\n",
       "      <td>0.676</td>\n",
       "      <td>7.974</td>\n",
       "    </tr>\n",
       "    <tr>\n",
       "      <th>15</th>\n",
       "      <td>0.701</td>\n",
       "      <td>9.746</td>\n",
       "    </tr>\n",
       "    <tr>\n",
       "      <th>16</th>\n",
       "      <td>0.726</td>\n",
       "      <td>0.000</td>\n",
       "    </tr>\n",
       "    <tr>\n",
       "      <th>17</th>\n",
       "      <td>0.751</td>\n",
       "      <td>0.000</td>\n",
       "    </tr>\n",
       "    <tr>\n",
       "      <th>18</th>\n",
       "      <td>0.801</td>\n",
       "      <td>7.271</td>\n",
       "    </tr>\n",
       "    <tr>\n",
       "      <th>19</th>\n",
       "      <td>0.826</td>\n",
       "      <td>0.795</td>\n",
       "    </tr>\n",
       "    <tr>\n",
       "      <th>20</th>\n",
       "      <td>0.851</td>\n",
       "      <td>7.350</td>\n",
       "    </tr>\n",
       "  </tbody>\n",
       "</table>\n",
       "</div>"
      ],
      "text/plain": [
       "    speed  power\n",
       "1   0.000  0.000\n",
       "2   0.125  0.000\n",
       "3   0.150  0.000\n",
       "4   0.225  0.000\n",
       "5   0.275  0.000\n",
       "6   0.325  4.331\n",
       "7   0.400  5.186\n",
       "8   0.450  3.826\n",
       "9   0.501  1.048\n",
       "10  0.526  5.553\n",
       "11  0.551  6.498\n",
       "12  0.576  5.241\n",
       "13  0.626  4.220\n",
       "14  0.676  7.974\n",
       "15  0.701  9.746\n",
       "16  0.726  0.000\n",
       "17  0.751  0.000\n",
       "18  0.801  7.271\n",
       "19  0.826  0.795\n",
       "20  0.851  7.350"
      ]
     },
     "execution_count": 5,
     "metadata": {},
     "output_type": "execute_result"
    }
   ],
   "source": [
    "# showing first 20 results\n",
    "df.head(20)"
   ]
  },
  {
   "cell_type": "code",
   "execution_count": 6,
   "metadata": {},
   "outputs": [
    {
     "data": {
      "text/plain": [
       "count    500.000000\n",
       "mean      12.590398\n",
       "std        7.224991\n",
       "min        0.000000\n",
       "25%        6.324750\n",
       "50%       12.550500\n",
       "75%       18.775250\n",
       "max       25.000000\n",
       "Name: speed, dtype: float64"
      ]
     },
     "execution_count": 6,
     "metadata": {},
     "output_type": "execute_result"
    }
   ],
   "source": [
    "# basic statistic of speed column\n",
    "df['speed'].describe()"
   ]
  },
  {
   "cell_type": "code",
   "execution_count": 7,
   "metadata": {},
   "outputs": [
    {
     "data": {
      "text/plain": [
       "count    500.000000\n",
       "mean      48.014584\n",
       "std       41.614572\n",
       "min        0.000000\n",
       "25%        5.288000\n",
       "50%       41.645500\n",
       "75%       93.537000\n",
       "max      113.556000\n",
       "Name: power, dtype: float64"
      ]
     },
     "execution_count": 7,
     "metadata": {},
     "output_type": "execute_result"
    }
   ],
   "source": [
    "# basic statistic of power column\n",
    "df['power'].describe()"
   ]
  },
  {
   "cell_type": "code",
   "execution_count": 8,
   "metadata": {},
   "outputs": [
    {
     "data": {
      "image/png": "[encoded data removed]",
      "text/plain": [
       "<Figure size 432x288 with 1 Axes>"
      ]
     },
     "metadata": {},
     "output_type": "display_data"
    }
   ],
   "source": [
    "# histogram of 'speed' data\n",
    "sns.set_style('darkgrid')\n",
    "sns.distplot(df['speed'])\n",
    "plt.show()"
   ]
  },
  {
   "cell_type": "markdown",
   "metadata": {},
   "source": [
    "We can clearly see normal distribution in above 'speed' column data."
   ]
  },
  {
   "cell_type": "code",
   "execution_count": 9,
   "metadata": {},
   "outputs": [
    {
     "data": {
      "image/png": "[encoded data removed]",
      "text/plain": [
       "<Figure size 432x288 with 1 Axes>"
      ]
     },
     "metadata": {},
     "output_type": "display_data"
    }
   ],
   "source": [
    "# histogram od 'power' data\n",
    "sns.set_style('darkgrid')\n",
    "sns.distplot(df['power'])\n",
    "plt.show()"
   ]
  },
  {
   "cell_type": "markdown",
   "metadata": {},
   "source": [
    "As we can see above this distribution look like bimodal distribution."
   ]
  },
  {
   "cell_type": "code",
   "execution_count": 10,
   "metadata": {},
   "outputs": [
    {
     "data": {
      "image/png": "[encoded data removed]",
      "text/plain": [
       "<Figure size 432x288 with 1 Axes>"
      ]
     },
     "metadata": {},
     "output_type": "display_data"
    }
   ],
   "source": [
    "# scatter plot of our dataset\n",
    "plt.xlabel('wind speed',fontsize = 16)\n",
    "plt.ylabel('power',fontsize = 16)\n",
    "plt.scatter(df['speed'],df['power'])\n",
    "plt.show()"
   ]
  },
  {
   "cell_type": "code",
   "execution_count": 11,
   "metadata": {},
   "outputs": [
    {
     "data": {
      "text/html": [
       "<div>\n",
       "<style scoped>\n",
       "    .dataframe tbody tr th:only-of-type {\n",
       "        vertical-align: middle;\n",
       "    }\n",
       "\n",
       "    .dataframe tbody tr th {\n",
       "        vertical-align: top;\n",
       "    }\n",
       "\n",
       "    .dataframe thead th {\n",
       "        text-align: right;\n",
       "    }\n",
       "</style>\n",
       "<table border=\"1\" class=\"dataframe\">\n",
       "  <thead>\n",
       "    <tr style=\"text-align: right;\">\n",
       "      <th></th>\n",
       "      <th>speed</th>\n",
       "      <th>power</th>\n",
       "    </tr>\n",
       "  </thead>\n",
       "  <tbody>\n",
       "    <tr>\n",
       "      <th>1</th>\n",
       "      <td>0.000</td>\n",
       "      <td>0.0</td>\n",
       "    </tr>\n",
       "    <tr>\n",
       "      <th>2</th>\n",
       "      <td>0.125</td>\n",
       "      <td>0.0</td>\n",
       "    </tr>\n",
       "    <tr>\n",
       "      <th>3</th>\n",
       "      <td>0.150</td>\n",
       "      <td>0.0</td>\n",
       "    </tr>\n",
       "    <tr>\n",
       "      <th>4</th>\n",
       "      <td>0.225</td>\n",
       "      <td>0.0</td>\n",
       "    </tr>\n",
       "    <tr>\n",
       "      <th>5</th>\n",
       "      <td>0.275</td>\n",
       "      <td>0.0</td>\n",
       "    </tr>\n",
       "    <tr>\n",
       "      <th>...</th>\n",
       "      <td>...</td>\n",
       "      <td>...</td>\n",
       "    </tr>\n",
       "    <tr>\n",
       "      <th>496</th>\n",
       "      <td>24.775</td>\n",
       "      <td>0.0</td>\n",
       "    </tr>\n",
       "    <tr>\n",
       "      <th>497</th>\n",
       "      <td>24.850</td>\n",
       "      <td>0.0</td>\n",
       "    </tr>\n",
       "    <tr>\n",
       "      <th>498</th>\n",
       "      <td>24.875</td>\n",
       "      <td>0.0</td>\n",
       "    </tr>\n",
       "    <tr>\n",
       "      <th>499</th>\n",
       "      <td>24.950</td>\n",
       "      <td>0.0</td>\n",
       "    </tr>\n",
       "    <tr>\n",
       "      <th>500</th>\n",
       "      <td>25.000</td>\n",
       "      <td>0.0</td>\n",
       "    </tr>\n",
       "  </tbody>\n",
       "</table>\n",
       "<p>500 rows × 2 columns</p>\n",
       "</div>"
      ],
      "text/plain": [
       "      speed  power\n",
       "1     0.000    0.0\n",
       "2     0.125    0.0\n",
       "3     0.150    0.0\n",
       "4     0.225    0.0\n",
       "5     0.275    0.0\n",
       "..      ...    ...\n",
       "496  24.775    0.0\n",
       "497  24.850    0.0\n",
       "498  24.875    0.0\n",
       "499  24.950    0.0\n",
       "500  25.000    0.0\n",
       "\n",
       "[500 rows x 2 columns]"
      ]
     },
     "execution_count": 11,
     "metadata": {},
     "output_type": "execute_result"
    }
   ],
   "source": [
    "df"
   ]
  },
  {
   "cell_type": "markdown",
   "metadata": {},
   "source": [
    "## Regression\n",
    "\n",
    "Regression analysis is a set of statistical methods used for the estimation of relationships between a dependent variable and one or more independent variables. It can be utilized to assess the strength of the relationship between variables and for modeling the future relationship between them.\n",
    "\n",
    "\n",
    "The term regression is used when you try to find the relationship between variables.\n",
    "\n",
    "In Machine Learning, and in statistical modeling, that relationship is used to predict the outcome of future events."
   ]
  },
  {
   "cell_type": "markdown",
   "metadata": {},
   "source": [
    "## Linear Regression\n",
    "\n",
    "The term “linearity” in algebra refers to a linear relationship between two or more variables. If we draw this relationship in a two-dimensional space (between two variables), we get a straight line.\n",
    "\n",
    "Simple linear regression is useful for finding relationship between two continuous variables. One is predictor or independent variable and other is response or dependent variable. It looks for statistical relationship but not deterministic relationship. Relationship between two variables is said to be deterministic if one variable can be accurately expressed by the other. For example, using temperature in degree Celsius it is possible to accurately predict Fahrenheit. Statistical relationship is not accurate in determining relationship between two variables. For example, relationship between height and weight.\n",
    "The core idea is to obtain a line that best fits the data. The best fit line is the one for which total prediction error (all data points) are as small as possible. Error is the distance between the point to the regression line."
   ]
  },
  {
   "cell_type": "code",
   "execution_count": 12,
   "metadata": {},
   "outputs": [
    {
     "data": {
      "image/png": "[encoded data removed]",
      "text/plain": [
       "<Figure size 432x288 with 1 Axes>"
      ]
     },
     "metadata": {},
     "output_type": "display_data"
    }
   ],
   "source": [
    "# divide data to x = speed and y = power\n",
    "x = df['speed']\n",
    "y = df['power']\n",
    "\n",
    "# model of Linear regression\n",
    "model = LinearRegression(fit_intercept=True)\n",
    "\n",
    "# fiting the model\n",
    "model.fit(x[:, np.newaxis], y)\n",
    "\n",
    "# making predyctions\n",
    "xfit = np.linspace(0, 25, 100)\n",
    "yfit = model.predict(xfit[:, np.newaxis])\n",
    "\n",
    "# creating plot\n",
    "plt.xlabel('wind speed',fontsize = 16)\n",
    "plt.ylabel('power',fontsize = 16)\n",
    "plt.scatter(x, y)\n",
    "plt.plot(xfit, yfit, color=\"red\");"
   ]
  },
  {
   "cell_type": "code",
   "execution_count": 13,
   "metadata": {},
   "outputs": [
    {
     "name": "stdout",
     "output_type": "stream",
     "text": [
      "Parameters: [4.91759567] -13.899902630519634\n",
      "Model slope:     4.9175956654046695\n",
      "Model intercept: -13.899902630519634\n"
     ]
    }
   ],
   "source": [
    "# slope and intercept parameters\n",
    "print(\"Parameters:\", model.coef_, model.intercept_)\n",
    "print(\"Model slope:    \", model.coef_[0])\n",
    "print(\"Model intercept:\", model.intercept_)"
   ]
  },
  {
   "cell_type": "markdown",
   "metadata": {},
   "source": [
    "**Different approach: Simple linear regression model**\n",
    "\n",
    "Fiting line helps to determine, if our model is predicting well on test dataset.\n",
    "With help of a line we can calculate the error of each datapoint from a line on basis of how fare it is from the line.\n",
    "Error could be +ve or -ve, and on basis of that we can calculate the cost function.\n",
    "I have used Fitted Line Plot to display the relationship between one continuous predictor and a response. A fitted line plot shows a scatterplot of the data with a regression line representing the regression equation."
   ]
  },
  {
   "cell_type": "markdown",
   "metadata": {},
   "source": [
    "A best fitted line can be roughly determined using an eyeball method by drawing a straight line on a scatter plot so that the number of points above the line and below the line is about equal (and the line passes through as many points as possible).As we can see below our data,are a little bit sinusoidal and in this case best fitted line is trying to cover most of points that are on diagonal, but also it has to cover other data points so its little bit tweaked due to overestimation and underestimation."
   ]
  },
  {
   "cell_type": "markdown",
   "metadata": {},
   "source": [
    "I divided data into training and testing samples at ratio of 70-30%. After that I will apply different models to compare the accuracy scores of all models."
   ]
  },
  {
   "cell_type": "code",
   "execution_count": 14,
   "metadata": {},
   "outputs": [],
   "source": [
    "# training our main model\n",
    "x_train,x_test,y_train,y_test = train_test_split(df[['speed']],df.power,test_size = 0.3)"
   ]
  },
  {
   "cell_type": "markdown",
   "metadata": {},
   "source": [
    "Simple linear regression model"
   ]
  },
  {
   "cell_type": "code",
   "execution_count": 15,
   "metadata": {},
   "outputs": [
    {
     "data": {
      "text/plain": [
       "LinearRegression()"
      ]
     },
     "execution_count": 15,
     "metadata": {},
     "output_type": "execute_result"
    }
   ],
   "source": [
    "reg_simple = lm.LinearRegression()\n",
    "reg_simple.fit(x_train,y_train)"
   ]
  },
  {
   "cell_type": "markdown",
   "metadata": {},
   "source": [
    "Best fit line on test dataset with simple linear regression"
   ]
  },
  {
   "cell_type": "code",
   "execution_count": 16,
   "metadata": {},
   "outputs": [
    {
     "data": {
      "image/png": "[encoded data removed]",
      "text/plain": [
       "<Figure size 432x288 with 1 Axes>"
      ]
     },
     "metadata": {},
     "output_type": "display_data"
    }
   ],
   "source": [
    "plt.xlabel('wind speed',fontsize = 16)\n",
    "plt.ylabel('power',fontsize = 16)\n",
    "plt.scatter(x_test,y_test, color='blue')\n",
    "plt.plot(x_test,reg_simple.predict(x_test),color = 'r')\n",
    "plt.show()"
   ]
  },
  {
   "cell_type": "markdown",
   "metadata": {},
   "source": [
    "Slope, y-intercept and score of our predictions."
   ]
  },
  {
   "cell_type": "code",
   "execution_count": 17,
   "metadata": {},
   "outputs": [
    {
     "data": {
      "text/plain": [
       "array([4.81672245])"
      ]
     },
     "execution_count": 17,
     "metadata": {},
     "output_type": "execute_result"
    }
   ],
   "source": [
    "reg_simple.coef_ #slope"
   ]
  },
  {
   "cell_type": "code",
   "execution_count": 18,
   "metadata": {},
   "outputs": [
    {
     "data": {
      "text/plain": [
       "-13.12585165142493"
      ]
     },
     "execution_count": 18,
     "metadata": {},
     "output_type": "execute_result"
    }
   ],
   "source": [
    "reg_simple.intercept_ #y-intercept"
   ]
  },
  {
   "cell_type": "code",
   "execution_count": 19,
   "metadata": {},
   "outputs": [
    {
     "data": {
      "text/plain": [
       "0.7500145176254372"
      ]
     },
     "execution_count": 19,
     "metadata": {},
     "output_type": "execute_result"
    }
   ],
   "source": [
    "reg_simple.score(x_test,y_test)"
   ]
  },
  {
   "cell_type": "markdown",
   "metadata": {},
   "source": [
    "## Ridge regression and classification\n",
    "\n",
    "Ridge regression is an extension of linear regression where the loss function is modified to minimize the complexity of the model. This modification is done by adding a penalty parameter that is equivalent to the square of the magnitude of the coefficients.\n",
    "\n",
    "Ridge Regression is a technique for analyzing multiple regression data that suffer from multicollinearity. When\n",
    "multicollinearity occurs, least squares estimates are unbiased, but their variances are large so they may be far from\n",
    "the true value. By adding a degree of bias to the regression estimates, ridge regression reduces the standard errors.\n",
    "It is hoped that the net effect will be to give estimates that are more reliable"
   ]
  },
  {
   "cell_type": "code",
   "execution_count": 20,
   "metadata": {},
   "outputs": [
    {
     "data": {
      "text/plain": [
       "Ridge(alpha=0.5)"
      ]
     },
     "execution_count": 20,
     "metadata": {},
     "output_type": "execute_result"
    }
   ],
   "source": [
    "reg_ridge = lm.Ridge(alpha=.5)\n",
    "reg_ridge.fit(x_train,y_train)"
   ]
  },
  {
   "cell_type": "code",
   "execution_count": 21,
   "metadata": {},
   "outputs": [
    {
     "data": {
      "image/png": "[encoded data removed]",
      "text/plain": [
       "<Figure size 432x288 with 1 Axes>"
      ]
     },
     "metadata": {},
     "output_type": "display_data"
    }
   ],
   "source": [
    "plt.xlabel('wind speed',fontsize = 16)\n",
    "plt.ylabel('power',fontsize = 16)\n",
    "plt.scatter(x_test,y_test, color='blue')\n",
    "plt.plot(x_test,reg_ridge.predict(x_test),color = 'r')\n",
    "plt.show()"
   ]
  },
  {
   "cell_type": "markdown",
   "metadata": {},
   "source": [
    "Slope, y-intercept and score of our predictions."
   ]
  },
  {
   "cell_type": "code",
   "execution_count": 22,
   "metadata": {},
   "outputs": [
    {
     "data": {
      "text/plain": [
       "array([4.81659234])"
      ]
     },
     "execution_count": 22,
     "metadata": {},
     "output_type": "execute_result"
    }
   ],
   "source": [
    "reg_ridge.coef_ #slope"
   ]
  },
  {
   "cell_type": "code",
   "execution_count": 23,
   "metadata": {},
   "outputs": [
    {
     "data": {
      "text/plain": [
       "-13.12422945970269"
      ]
     },
     "execution_count": 23,
     "metadata": {},
     "output_type": "execute_result"
    }
   ],
   "source": [
    "reg_ridge.intercept_ #y-intercept"
   ]
  },
  {
   "cell_type": "code",
   "execution_count": 24,
   "metadata": {},
   "outputs": [
    {
     "data": {
      "text/plain": [
       "0.7500119065722066"
      ]
     },
     "execution_count": 24,
     "metadata": {},
     "output_type": "execute_result"
    }
   ],
   "source": [
    "reg_ridge.score(x_test,y_test)"
   ]
  },
  {
   "cell_type": "markdown",
   "metadata": {},
   "source": [
    "**With regularization parameter.**"
   ]
  },
  {
   "cell_type": "code",
   "execution_count": 25,
   "metadata": {},
   "outputs": [
    {
     "data": {
      "text/plain": [
       "RidgeCV(alphas=array([1.e-06, 1.e-05, 1.e-04, 1.e-03, 1.e-02, 1.e-01, 1.e+00, 1.e+01,\n",
       "       1.e+02, 1.e+03, 1.e+04, 1.e+05, 1.e+06]))"
      ]
     },
     "execution_count": 25,
     "metadata": {},
     "output_type": "execute_result"
    }
   ],
   "source": [
    "reg_ridgecv = lm.RidgeCV(alphas=np.logspace(-6, 6, 13))\n",
    "reg_ridgecv.fit(x_train,y_train)"
   ]
  },
  {
   "cell_type": "code",
   "execution_count": 26,
   "metadata": {},
   "outputs": [
    {
     "data": {
      "image/png": "[encoded data removed]",
      "text/plain": [
       "<Figure size 432x288 with 1 Axes>"
      ]
     },
     "metadata": {},
     "output_type": "display_data"
    }
   ],
   "source": [
    "plt.xlabel('wind speed',fontsize = 16)\n",
    "plt.ylabel('power',fontsize = 16)\n",
    "plt.scatter(x_test,y_test, color='blue')\n",
    "plt.plot(x_test,reg_ridgecv.predict(x_test),color = 'r')\n",
    "plt.show()"
   ]
  },
  {
   "cell_type": "markdown",
   "metadata": {},
   "source": [
    "Slope, y-intercept and score of our predictions."
   ]
  },
  {
   "cell_type": "code",
   "execution_count": 27,
   "metadata": {},
   "outputs": [
    {
     "data": {
      "text/plain": [
       "array([4.79083984])"
      ]
     },
     "execution_count": 27,
     "metadata": {},
     "output_type": "execute_result"
    }
   ],
   "source": [
    "reg_ridgecv.coef_ #slope"
   ]
  },
  {
   "cell_type": "code",
   "execution_count": 28,
   "metadata": {},
   "outputs": [
    {
     "data": {
      "text/plain": [
       "-12.803147956241773"
      ]
     },
     "execution_count": 28,
     "metadata": {},
     "output_type": "execute_result"
    }
   ],
   "source": [
    "reg_ridgecv.intercept_ #y-intercept"
   ]
  },
  {
   "cell_type": "code",
   "execution_count": 29,
   "metadata": {},
   "outputs": [
    {
     "data": {
      "text/plain": [
       "0.7494761152188576"
      ]
     },
     "execution_count": 29,
     "metadata": {},
     "output_type": "execute_result"
    }
   ],
   "source": [
    "reg_ridgecv.score(x_test,y_test)"
   ]
  },
  {
   "cell_type": "markdown",
   "metadata": {},
   "source": [
    "# Lasso\n",
    "\n",
    "Lasso regression is a type of linear regression that uses shrinkage. Shrinkage is where data values are shrunk towards a central point, like the mean. The lasso procedure encourages simple, sparse models (i.e. models with fewer parameters). This particular type of regression is well-suited for models showing high levels of muticollinearity or when you want to automate certain parts of model selection, like variable selection/parameter elimination.\n",
    "\n",
    "The acronym “LASSO” stands for Least Absolute Shrinkage and Selection Operator."
   ]
  },
  {
   "cell_type": "code",
   "execution_count": 30,
   "metadata": {},
   "outputs": [
    {
     "data": {
      "text/plain": [
       "Lasso(alpha=0.1)"
      ]
     },
     "execution_count": 30,
     "metadata": {},
     "output_type": "execute_result"
    }
   ],
   "source": [
    "reg_lasso = lm.Lasso(alpha=0.1)\n",
    "reg_lasso.fit(x_train,y_train)"
   ]
  },
  {
   "cell_type": "code",
   "execution_count": 31,
   "metadata": {},
   "outputs": [
    {
     "data": {
      "image/png": "[encoded data removed]",
      "text/plain": [
       "<Figure size 432x288 with 1 Axes>"
      ]
     },
     "metadata": {},
     "output_type": "display_data"
    }
   ],
   "source": [
    "plt.xlabel('wind speed',fontsize = 16)\n",
    "plt.ylabel('power',fontsize = 16)\n",
    "plt.scatter(x_test,y_test, color='blue')\n",
    "plt.plot(x_test,reg_lasso.predict(x_test),color = 'r')\n",
    "plt.show()"
   ]
  },
  {
   "cell_type": "markdown",
   "metadata": {},
   "source": [
    "Slope, y-intercept and score of our predictions."
   ]
  },
  {
   "cell_type": "code",
   "execution_count": 32,
   "metadata": {},
   "outputs": [
    {
     "data": {
      "text/plain": [
       "array([4.81483157])"
      ]
     },
     "execution_count": 32,
     "metadata": {},
     "output_type": "execute_result"
    }
   ],
   "source": [
    "reg_lasso.coef_ #slope"
   ]
  },
  {
   "cell_type": "code",
   "execution_count": 33,
   "metadata": {},
   "outputs": [
    {
     "data": {
      "text/plain": [
       "-13.102276183022624"
      ]
     },
     "execution_count": 33,
     "metadata": {},
     "output_type": "execute_result"
    }
   ],
   "source": [
    "reg_lasso.intercept_ #y-intercept"
   ]
  },
  {
   "cell_type": "code",
   "execution_count": 34,
   "metadata": {},
   "outputs": [
    {
     "data": {
      "text/plain": [
       "0.7499764761122948"
      ]
     },
     "execution_count": 34,
     "metadata": {},
     "output_type": "execute_result"
    }
   ],
   "source": [
    "reg_lasso.score(x_test,y_test)"
   ]
  },
  {
   "cell_type": "markdown",
   "metadata": {},
   "source": [
    "# LARS Lasso\n",
    "\n",
    "In statistics, least-angle regression (LARS) is an algorithm for fitting linear regression models to high-dimensional data, developed by Bradley Efron, Trevor Hastie, Iain Johnstone and Robert Tibshirani.[1]\n",
    "\n",
    "Suppose we expect a response variable to be determined by a linear combination of a subset of potential covariates. Then the LARS algorithm provides a means of producing an estimate of which variables to include, as well as their coefficients.\n",
    "\n",
    "Instead of giving a vector result, the LARS solution consists of a curve denoting the solution for each value of the L1 norm of the parameter vector. The algorithm is similar to forward stepwise regression, but instead of including variables at each step, the estimated parameters are increased in a direction equiangular to each one's correlations with the residual."
   ]
  },
  {
   "cell_type": "code",
   "execution_count": 35,
   "metadata": {},
   "outputs": [
    {
     "data": {
      "text/plain": [
       "Lars(n_nonzero_coefs=1)"
      ]
     },
     "execution_count": 35,
     "metadata": {},
     "output_type": "execute_result"
    }
   ],
   "source": [
    "reg_lars = lm.Lars(n_nonzero_coefs=1)\n",
    "reg_lars.fit(x_train,y_train)"
   ]
  },
  {
   "cell_type": "code",
   "execution_count": 36,
   "metadata": {},
   "outputs": [
    {
     "data": {
      "image/png": "[encoded data removed]",
      "text/plain": [
       "<Figure size 432x288 with 1 Axes>"
      ]
     },
     "metadata": {},
     "output_type": "display_data"
    }
   ],
   "source": [
    "plt.xlabel('wind speed',fontsize = 16)\n",
    "plt.ylabel('power',fontsize = 16)\n",
    "plt.scatter(x_test,y_test, color='blue')\n",
    "plt.plot(x_test,reg_lars.predict(x_test),color = 'r')\n",
    "plt.show()"
   ]
  },
  {
   "cell_type": "markdown",
   "metadata": {},
   "source": [
    "Slope, y-intercept and score of our predictions."
   ]
  },
  {
   "cell_type": "code",
   "execution_count": 37,
   "metadata": {},
   "outputs": [
    {
     "data": {
      "text/plain": [
       "array([4.81672245])"
      ]
     },
     "execution_count": 37,
     "metadata": {},
     "output_type": "execute_result"
    }
   ],
   "source": [
    "reg_lars.coef_ #slope"
   ]
  },
  {
   "cell_type": "code",
   "execution_count": 38,
   "metadata": {},
   "outputs": [
    {
     "data": {
      "text/plain": [
       "-13.125851651424945"
      ]
     },
     "execution_count": 38,
     "metadata": {},
     "output_type": "execute_result"
    }
   ],
   "source": [
    "reg_lars.intercept_ #y-intercept"
   ]
  },
  {
   "cell_type": "code",
   "execution_count": 39,
   "metadata": {},
   "outputs": [
    {
     "data": {
      "text/plain": [
       "0.7500145176254372"
      ]
     },
     "execution_count": 39,
     "metadata": {},
     "output_type": "execute_result"
    }
   ],
   "source": [
    "reg_lars.score(x_test,y_test)"
   ]
  },
  {
   "cell_type": "markdown",
   "metadata": {},
   "source": [
    "**Accuracy** of all models are almost 78% and model having accuracy between 70% to 80% are considered as a good models.<br>\n",
    "If score value is between 80% and 90%, then model is cosidered as excellent model. If score value is between 90% and 100%, it's a probably an overfitting case.\n",
    "\n",
    "<img src=\"img/img2.png\">\n",
    "\n",
    "\n",
    "Above image explains over and under **estimation** of data, We can see in below image that how \n",
    "datapoints are overestimating and underestimating at some points\n",
    "\n",
    "\n",
    "\n",
    "<img src=\"img/img_exp.png\">\n",
    "\n"
   ]
  },
  {
   "cell_type": "markdown",
   "metadata": {},
   "source": [
    "## Logistic Regression\n",
    "\n",
    "Logistic regression is a statistical method for predicting binary classes. The outcome or target variable is dichotomous in nature. Dichotomous means there are only two possible classes. For example, it can be used for cancer detection problems. It computes the probability of an event occurrence.\n",
    "\n",
    "It is a special case of linear regression where the target variable is categorical in nature. It uses a log of odds as the dependent variable. Logistic Regression predicts the probability of occurrence of a binary event utilizing a logit function.\n",
    "\n",
    "**Linear Regression Vs. Logistic Regression**\n",
    "\n",
    "Linear regression gives you a continuous output, but logistic regression provides a constant output. An example of the continuous output is house price and stock price. Example's of the discrete output is predicting whether a patient has cancer or not, predicting whether the customer will churn. Linear regression is estimated using Ordinary Least Squares (OLS) while logistic regression is estimated using Maximum Likelihood Estimation (MLE) approach.\n",
    "\n",
    "<img src=\"img/linlog.png\">\n"
   ]
  },
  {
   "cell_type": "code",
   "execution_count": 40,
   "metadata": {},
   "outputs": [],
   "source": [
    "# Logistic regression model\n",
    "logistic_regression = LogisticRegression(max_iter=5000)"
   ]
  },
  {
   "cell_type": "code",
   "execution_count": 41,
   "metadata": {},
   "outputs": [
    {
     "name": "stdout",
     "output_type": "stream",
     "text": [
      "[ 34 214 180 266  37  13 154   0 129 122 135 159 170  29 182 166 307  30\n",
      " 279 234 173 230   0 272 296 247  54 112 134   0  15   0 205 158 186  67\n",
      "  28 227 194 165 261 216  66 250 190 181 153   1  12  78   0 209  83  31\n",
      " 235 300 264  79 285   0  55 218 178   0 174 199 302   0 210 151 281 231\n",
      " 308   7   4  19 232 176 211  24 220 304   5  85 267 115 223 228  44 240\n",
      " 280 188   0 282  95 219  63 126 161 257  70 207 123   0 179 147 293 236\n",
      " 198  11   0  59 145  49 277 294 130   0 283  33  16  56 224  73   0 144\n",
      "  62 102 148 133 118  61 150   0   0 260  90  71   0 155  88   0 288 259\n",
      " 121 192  20 312 201 193   0 106 284 204   9 242 105  99  46   0  77   3\n",
      "  39  45 163 213 306 185  75 117  76 286  42 255   0   8  68 295 140  36\n",
      " 275 226 197  35   0 196 132  10 100 120 175  65 305 111 229 141  69 289\n",
      " 263 172   0 271   0  17  97 103 220   0 258 160 303 127 222 274  91 290\n",
      " 238 200  23  14   2  93   0 128  72  84  27   6 162 276 212 183 278 244\n",
      " 268 237 125 136 156 142 221   0  38   0 177 298 187 291  18 113 110 309\n",
      "  51 251 243 146  25 119   0 109 292 249 168 149  87 107 195  41  40 101\n",
      "  26  52 241 270 310 253 167 116 138 299  81 245 114   0  32   0 206 143\n",
      " 169 252 254   0   0  94 139  86  82 256  57 208  58   0   0  96   0   0\n",
      " 184  60 269 137  21  50 108 217 301 191  47   0 124 215 262  74 171 265\n",
      "  22  64 189 152 287 202  89  92 203  80 297 157  43 164 239  53  98 311\n",
      " 233 225 104 246 273  48 248 131]\n",
      "continuous\n",
      "multiclass\n",
      "multiclass\n"
     ]
    }
   ],
   "source": [
    "# importing necessary packages\n",
    "from sklearn import preprocessing\n",
    "from sklearn import utils\n",
    "\n",
    "# encoding data to be able to proceed with Logistic regression\n",
    "lab_enc = preprocessing.LabelEncoder()\n",
    "y_train_encoded = lab_enc.fit_transform(y_train)\n",
    "print(y_train_encoded)\n",
    "print(utils.multiclass.type_of_target(y_train))\n",
    "print(utils.multiclass.type_of_target(y_train.astype('int')))\n",
    "print(utils.multiclass.type_of_target(y_train_encoded))"
   ]
  },
  {
   "cell_type": "code",
   "execution_count": 42,
   "metadata": {},
   "outputs": [
    {
     "data": {
      "text/plain": [
       "LogisticRegression(max_iter=5000)"
      ]
     },
     "execution_count": 42,
     "metadata": {},
     "output_type": "execute_result"
    }
   ],
   "source": [
    "# training model\n",
    "logistic_regression.fit(x_train, y_train_encoded)"
   ]
  },
  {
   "cell_type": "code",
   "execution_count": 43,
   "metadata": {},
   "outputs": [
    {
     "data": {
      "text/plain": [
       "LogisticRegression(max_iter=5000)"
      ]
     },
     "execution_count": 43,
     "metadata": {},
     "output_type": "execute_result"
    }
   ],
   "source": [
    "logistic_regression.fit(x_train, y_train_encoded)"
   ]
  },
  {
   "cell_type": "code",
   "execution_count": 44,
   "metadata": {},
   "outputs": [],
   "source": [
    "# predicting \"y\"\n",
    "y_pred = logistic_regression.predict(x_test)"
   ]
  },
  {
   "cell_type": "code",
   "execution_count": 45,
   "metadata": {},
   "outputs": [
    {
     "data": {
      "image/png": "[encoded data removed]",
      "text/plain": [
       "<Figure size 432x288 with 1 Axes>"
      ]
     },
     "metadata": {},
     "output_type": "display_data"
    }
   ],
   "source": [
    "# creating plot\n",
    "plt.xlabel('wind speed',fontsize = 16)\n",
    "plt.ylabel('power',fontsize = 16)\n",
    "plt.scatter(x_test,y_test, color='blue')\n",
    "plt.plot(x_test,logistic_regression.predict_proba(x_test)[:,1],color = 'r')\n",
    "plt.show()\n"
   ]
  },
  {
   "cell_type": "markdown",
   "metadata": {},
   "source": [
    "Slope, y-intercept and score of our predictions."
   ]
  },
  {
   "cell_type": "code",
   "execution_count": 46,
   "metadata": {},
   "outputs": [
    {
     "data": {
      "text/plain": [
       "2.3535536317145097e-12"
      ]
     },
     "execution_count": 46,
     "metadata": {},
     "output_type": "execute_result"
    }
   ],
   "source": [
    "logistic_regression.coef_.mean() #slope"
   ]
  },
  {
   "cell_type": "code",
   "execution_count": 47,
   "metadata": {},
   "outputs": [
    {
     "data": {
      "text/plain": [
       "-1.4637634377575482e-13"
      ]
     },
     "execution_count": 47,
     "metadata": {},
     "output_type": "execute_result"
    }
   ],
   "source": [
    "logistic_regression.intercept_ .mean()#y-intercept"
   ]
  },
  {
   "cell_type": "code",
   "execution_count": 48,
   "metadata": {},
   "outputs": [
    {
     "data": {
      "text/plain": [
       "0.06"
      ]
     },
     "execution_count": 48,
     "metadata": {},
     "output_type": "execute_result"
    }
   ],
   "source": [
    "test_enc = preprocessing.LabelEncoder()\n",
    "y_test_encoded = test_enc.fit_transform(y_test)\n",
    "logistic_regression.score(x_test,y_test_encoded)"
   ]
  },
  {
   "cell_type": "code",
   "execution_count": 49,
   "metadata": {},
   "outputs": [
    {
     "data": {
      "text/plain": [
       "1      True\n",
       "2      True\n",
       "3      True\n",
       "4      True\n",
       "5      True\n",
       "       ... \n",
       "496    True\n",
       "497    True\n",
       "498    True\n",
       "499    True\n",
       "500    True\n",
       "Name: power, Length: 500, dtype: bool"
      ]
     },
     "execution_count": 49,
     "metadata": {},
     "output_type": "execute_result"
    }
   ],
   "source": [
    "# trying to get rid of outliers\n",
    "filter = df[\"power\"]==0.0\n",
    "filter"
   ]
  },
  {
   "cell_type": "code",
   "execution_count": 50,
   "metadata": {},
   "outputs": [
    {
     "name": "stdout",
     "output_type": "stream",
     "text": [
      "The list indices having True values are : [0, 1, 2, 3, 4, 15, 16, 24, 26, 31, 35, 37, 39, 42, 43, 44, 47, 60, 65, 67, 70, 73, 74, 75, 83, 89, 105, 110, 111, 114, 133, 135, 136, 140, 149, 208, 340, 404, 456, 490, 491, 492, 493, 494, 495, 496, 497, 498, 499]\n"
     ]
    }
   ],
   "source": [
    "# using enumerate() + list comprehension \n",
    "# to return true indices. \n",
    "res = [i for i, val in enumerate(filter) if val] \n",
    "  \n",
    "# printing result \n",
    "print (\"The list indices having True values are : \" +  str(res))"
   ]
  },
  {
   "cell_type": "code",
   "execution_count": 51,
   "metadata": {},
   "outputs": [
    {
     "data": {
      "text/html": [
       "<div>\n",
       "<style scoped>\n",
       "    .dataframe tbody tr th:only-of-type {\n",
       "        vertical-align: middle;\n",
       "    }\n",
       "\n",
       "    .dataframe tbody tr th {\n",
       "        vertical-align: top;\n",
       "    }\n",
       "\n",
       "    .dataframe thead th {\n",
       "        text-align: right;\n",
       "    }\n",
       "</style>\n",
       "<table border=\"1\" class=\"dataframe\">\n",
       "  <thead>\n",
       "    <tr style=\"text-align: right;\">\n",
       "      <th></th>\n",
       "      <th>speed</th>\n",
       "      <th>power</th>\n",
       "    </tr>\n",
       "  </thead>\n",
       "  <tbody>\n",
       "    <tr>\n",
       "      <th>1</th>\n",
       "      <td>0.000</td>\n",
       "      <td>0.000</td>\n",
       "    </tr>\n",
       "    <tr>\n",
       "      <th>2</th>\n",
       "      <td>0.125</td>\n",
       "      <td>0.000</td>\n",
       "    </tr>\n",
       "    <tr>\n",
       "      <th>3</th>\n",
       "      <td>0.150</td>\n",
       "      <td>0.000</td>\n",
       "    </tr>\n",
       "    <tr>\n",
       "      <th>4</th>\n",
       "      <td>0.225</td>\n",
       "      <td>0.000</td>\n",
       "    </tr>\n",
       "    <tr>\n",
       "      <th>5</th>\n",
       "      <td>0.275</td>\n",
       "      <td>0.000</td>\n",
       "    </tr>\n",
       "    <tr>\n",
       "      <th>...</th>\n",
       "      <td>...</td>\n",
       "      <td>...</td>\n",
       "    </tr>\n",
       "    <tr>\n",
       "      <th>486</th>\n",
       "      <td>24.249</td>\n",
       "      <td>103.700</td>\n",
       "    </tr>\n",
       "    <tr>\n",
       "      <th>487</th>\n",
       "      <td>24.299</td>\n",
       "      <td>93.694</td>\n",
       "    </tr>\n",
       "    <tr>\n",
       "      <th>488</th>\n",
       "      <td>24.349</td>\n",
       "      <td>93.078</td>\n",
       "    </tr>\n",
       "    <tr>\n",
       "      <th>489</th>\n",
       "      <td>24.374</td>\n",
       "      <td>98.223</td>\n",
       "    </tr>\n",
       "    <tr>\n",
       "      <th>490</th>\n",
       "      <td>24.399</td>\n",
       "      <td>95.117</td>\n",
       "    </tr>\n",
       "  </tbody>\n",
       "</table>\n",
       "<p>456 rows × 2 columns</p>\n",
       "</div>"
      ],
      "text/plain": [
       "      speed    power\n",
       "1     0.000    0.000\n",
       "2     0.125    0.000\n",
       "3     0.150    0.000\n",
       "4     0.225    0.000\n",
       "5     0.275    0.000\n",
       "..      ...      ...\n",
       "486  24.249  103.700\n",
       "487  24.299   93.694\n",
       "488  24.349   93.078\n",
       "489  24.374   98.223\n",
       "490  24.399   95.117\n",
       "\n",
       "[456 rows x 2 columns]"
      ]
     },
     "execution_count": 51,
     "metadata": {},
     "output_type": "execute_result"
    }
   ],
   "source": [
    "# updating list by dropping \"0\" power not including first few data points\n",
    "update = df.drop(df.index[[15, 16, 24, 26, 31, 35, 37, 39, 42, 43, 44, 47, 60, 65, 67, 70, 73, 74, 75, 83, 89, 105, 110, 111, 114, 133, 135, 136, 140, 149, 208, 340, 404, 456, 490, 491, 492, 493, 494, 495, 496, 497, 498, 499]])\n",
    "update"
   ]
  },
  {
   "cell_type": "code",
   "execution_count": 52,
   "metadata": {},
   "outputs": [],
   "source": [
    "# training updated data\n",
    "x_train,x_test,y_train,y_test = train_test_split(update[['speed']],update.power,test_size = 0.3)"
   ]
  },
  {
   "cell_type": "code",
   "execution_count": 53,
   "metadata": {},
   "outputs": [],
   "source": [
    "# updated model\n",
    "log = LogisticRegression(max_iter=5000)"
   ]
  },
  {
   "cell_type": "code",
   "execution_count": 54,
   "metadata": {},
   "outputs": [
    {
     "name": "stdout",
     "output_type": "stream",
     "text": [
      "[ 21 109   0  15 242 273 270  14 159 182 222 300 101 239  35  90  44  59\n",
      " 279 205 148 120 291  57  31 100 232  89  93 196  54 255 151 253 283 281\n",
      " 301 206 207  65 267  40 251 167 268 229  18  37  91 231 302 312 104 307\n",
      " 256   1 209  23 257  39  82  25 203 246 284  41  71  85 311  88 228   7\n",
      "  95 252  69 122  58  72 265 140 240  10  19  52  63 230 169  80  16 123\n",
      " 136 224 247 126 124 142  68 262  11 288 287 106 147  12 105 204  29  94\n",
      "  49 133 315 194  20 263 166  30 294 111 113 245 295 138  61 187 211 195\n",
      " 218 115  75 103 223 158 234  42 241 198  76  97 172 236 248   0 160 185\n",
      "  53  98  83 276  77 292 130 299 153 178  48 173 293 137 296 314 298 141\n",
      " 144  43  60 112  38 174 162 210 217 175  32 129 235  86 221  51 108  26\n",
      "  45  47  70 303 155 250  28 259 277 308  24 186 170  96 192 254 107 208\n",
      "   0 128  55 216 146  73 225   9   3  99 226 102 180  22 285  87 305 164\n",
      " 290  27 119  36 227 199 154  67 238  56 289 280  92 304  50 157 168  78\n",
      " 156 260   8 243 297 116  46 202 212   2 237 125 150 188 127 118 131 220\n",
      " 258 266 313 278 264 215 189 282 244  81 249 165 274 306 132   4 183 145\n",
      " 134 310 261 177 200 275 143 216 149 121 201  62  66  84 117 181 213 184\n",
      " 269 110 190 286 152  74 191 171  79   5  17 233 219  13 114 197  33  34\n",
      " 161 179 214 271   6 135 176 139  64 193 309 163 272]\n",
      "continuous\n",
      "multiclass\n",
      "multiclass\n"
     ]
    }
   ],
   "source": [
    "# encoding data again\n",
    "lab_enc = preprocessing.LabelEncoder()\n",
    "y_train_encoded = lab_enc.fit_transform(y_train)\n",
    "print(y_train_encoded)\n",
    "print(utils.multiclass.type_of_target(y_train))\n",
    "print(utils.multiclass.type_of_target(y_train.astype('int')))\n",
    "print(utils.multiclass.type_of_target(y_train_encoded))"
   ]
  },
  {
   "cell_type": "code",
   "execution_count": 55,
   "metadata": {},
   "outputs": [
    {
     "data": {
      "text/plain": [
       "LogisticRegression(max_iter=5000)"
      ]
     },
     "execution_count": 55,
     "metadata": {},
     "output_type": "execute_result"
    }
   ],
   "source": [
    "# fitting data\n",
    "log.fit(x_train, y_train_encoded)"
   ]
  },
  {
   "cell_type": "code",
   "execution_count": 56,
   "metadata": {},
   "outputs": [],
   "source": [
    "\"predicting \"y\"\n",
    "y_pred = log.predict_proba(x_test)[:,1]"
   ]
  },
  {
   "cell_type": "code",
   "execution_count": 57,
   "metadata": {},
   "outputs": [
    {
     "data": {
      "image/png": "[encoded data removed]",
      "text/plain": [
       "<Figure size 432x288 with 1 Axes>"
      ]
     },
     "metadata": {},
     "output_type": "display_data"
    }
   ],
   "source": [
    "# creating plot\n",
    "plt.xlabel('wind speed',fontsize = 16)\n",
    "plt.ylabel('power',fontsize = 16)\n",
    "plt.scatter(x_test,y_test, color='blue')\n",
    "plt.plot(x_test,log.predict_proba(x_test)[:,300],color = 'r')\n",
    "plt.show()"
   ]
  },
  {
   "cell_type": "markdown",
   "metadata": {},
   "source": [
    "**Logistic regression** is not able to handle a large number of categorical features/variables. It is vulnerable to overfitting. Also, can't solve the non-linear problem with the logistic regression that is why it requires a transformation of non-linear features. Logistic regression will not perform well with independent variables that are not correlated to the target variable and are very similar or correlated to each other.\n",
    "\n",
    "It was very bad on our data with score below 0.05, even when I have tried to cut outliners."
   ]
  },
  {
   "cell_type": "markdown",
   "metadata": {},
   "source": [
    "## Polynomial regression \n",
    "\n",
    "is a special case of linear regression where we fit a polynomial equation on the data with a curvilinear relationship between the target variable and the independent variables.\n",
    "\n",
    "In a curvilinear relationship, the value of the target variable changes in a non-uniform manner with respect to the predictor (s).\n",
    "\n",
    "The number of higher-order terms increases with the increasing value of n, and hence the equation becomes more complicated.\n",
    "\n",
    "While there might be a temptation to fit a higher degree polynomial to get lower error, this can result in over-fitting. Always plot the relationships to see the fit and focus on making sure that the curve fits the nature of the problem. Here is an example of how plotting can help:\n",
    "\n",
    "<img src=\"img/fitting.png\">\n",
    "\n",
    "Especially look out for curve towards the ends and see whether those shapes and trends make sense. Higher polynomials can end up producing wierd results on extrapolation."
   ]
  },
  {
   "cell_type": "code",
   "execution_count": 58,
   "metadata": {},
   "outputs": [
    {
     "data": {
      "text/plain": [
       "LinearRegression()"
      ]
     },
     "execution_count": 58,
     "metadata": {},
     "output_type": "execute_result"
    }
   ],
   "source": [
    "# Training Polynomial Regression Model\n",
    "poly_reg = PolynomialFeatures(degree = 4)\n",
    "x_poly = poly_reg.fit_transform(x_train)\n",
    "poly_reg.fit(x_poly, y_train)\n",
    "lin_reg = LinearRegression()\n",
    "lin_reg.fit(x_poly, y_train)"
   ]
  },
  {
   "cell_type": "code",
   "execution_count": 59,
   "metadata": {},
   "outputs": [
    {
     "data": {
      "text/plain": [
       "array([ 83.91327612,  48.18902691,  95.00057897,  -0.91066685,\n",
       "        20.11364435,  97.55324958,   0.58709037,  71.3995203 ,\n",
       "       103.06878903,  12.1400417 , 103.9833392 , 105.49898144,\n",
       "         7.1189337 ,   7.16500063,  44.05776311,   7.47485148,\n",
       "        22.30121185,  -0.88996151,   8.74207464,  -0.4779588 ,\n",
       "       103.46150305,  72.75056341,  10.16615845, 103.17309856,\n",
       "       105.12332264,  67.98178211,  31.58299112,  89.33274958,\n",
       "        13.02906931,  68.2111958 ,   3.23743395,  94.13862406,\n",
       "        15.85166778, 102.82376719,  80.81351033,  20.47118403,\n",
       "        82.88775103,   4.33500354,  57.04373451, 100.99181873,\n",
       "        89.64047936,  25.33354439,  63.81348849,  52.13034327,\n",
       "        72.52610551,   3.06671079,  88.40242024,   0.64035385,\n",
       "        36.48183573,  44.28502225, 104.72253236,  77.61342742,\n",
       "        98.51947442,   2.73553452, 102.54694291,  91.67365425,\n",
       "        11.56157231,  17.50931969,  -0.21632982,   5.03160927,\n",
       "        42.92496972, 104.55117613,   2.49618437,  91.14645671,\n",
       "        93.7103572 , 104.36697534,   3.15164567,  -0.88576244,\n",
       "        46.34003089,  45.65317079,  44.96813436,  40.23230197,\n",
       "        99.68649284, 103.34274144, 100.02142683, 105.69798616,\n",
       "        64.51001383,  33.90036932,  67.7521697 , 102.91349481,\n",
       "        28.70017163,  89.08873715,  -0.79314806,  48.65066778,\n",
       "        67.06218614,  90.60518835,  -0.91339797,  -0.54354002,\n",
       "        14.40964016,   0.19355127,  10.01106751,   0.33930712,\n",
       "        49.80738138,  -0.8422922 ,   5.552618  ,  79.97003962,\n",
       "       102.64662506,  94.84238558,  90.96207575,  91.23259572,\n",
       "         3.84149903, 105.23959813,  50.5030449 , 105.60977462,\n",
       "         9.23338566,   1.16012477,  85.11553882,  73.19858172,\n",
       "         2.26461872,  42.24822687,  84.71709472,  -0.9047129 ,\n",
       "       105.52438906,  27.09816623,  96.68010733,  73.42213253,\n",
       "       104.56743755,   0.19329884,   7.04024957,   7.00186926,\n",
       "        55.86498411,  74.53510976,  39.12232042,   1.80797789,\n",
       "        96.97318333, 104.101701  ,  90.42561683,  81.23237651,\n",
       "         0.14723443,  96.38317811, 103.25949903, 102.42295394,\n",
       "        91.4888296 ,  93.21230159,   3.93825996,  54.69631832,\n",
       "        98.78625695])"
      ]
     },
     "execution_count": 59,
     "metadata": {},
     "output_type": "execute_result"
    }
   ],
   "source": [
    "# Predict Result with Polynomial Regression\n",
    "poly = lin_reg.predict(poly_reg.fit_transform(x_test))\n",
    "poly"
   ]
  },
  {
   "cell_type": "code",
   "execution_count": 60,
   "metadata": {},
   "outputs": [],
   "source": [
    "# Change into array\n",
    "x = np.array(df['speed'])\n",
    "y = np.array(df['power'])"
   ]
  },
  {
   "cell_type": "code",
   "execution_count": 61,
   "metadata": {},
   "outputs": [],
   "source": [
    "# Changing the shape of array\n",
    "x = x.reshape(-1,1)\n",
    "y = y.reshape(-1,1)"
   ]
  },
  {
   "cell_type": "code",
   "execution_count": 62,
   "metadata": {},
   "outputs": [
    {
     "data": {
      "image/png": "[encoded data removed]",
      "text/plain": [
       "<Figure size 432x288 with 1 Axes>"
      ]
     },
     "metadata": {},
     "output_type": "display_data"
    }
   ],
   "source": [
    "# Visualise the Results of Polynomial Regression\n",
    "plt.scatter(x_train, y_train, color = 'blue')\n",
    "plt.plot(x, lin_reg.predict(poly_reg.fit_transform(x)), color = 'red')\n",
    "plt.title('Polynomial Regression')\n",
    "plt.xlabel('Wind speed')\n",
    "plt.ylabel('Power')\n",
    "plt.show()"
   ]
  },
  {
   "cell_type": "markdown",
   "metadata": {},
   "source": [
    "Slope, y-intercept and score of our predictions."
   ]
  },
  {
   "cell_type": "code",
   "execution_count": 63,
   "metadata": {},
   "outputs": [
    {
     "data": {
      "text/plain": [
       "-1.0095209396672558"
      ]
     },
     "execution_count": 63,
     "metadata": {},
     "output_type": "execute_result"
    }
   ],
   "source": [
    "lin_reg.coef_.mean() #slope"
   ]
  },
  {
   "cell_type": "code",
   "execution_count": 64,
   "metadata": {},
   "outputs": [
    {
     "data": {
      "text/plain": [
       "10.011067507759364"
      ]
     },
     "execution_count": 64,
     "metadata": {},
     "output_type": "execute_result"
    }
   ],
   "source": [
    "lin_reg.intercept_#y-intercept"
   ]
  },
  {
   "cell_type": "code",
   "execution_count": 65,
   "metadata": {},
   "outputs": [
    {
     "data": {
      "text/plain": [
       "0.8717545922383143"
      ]
     },
     "execution_count": 65,
     "metadata": {},
     "output_type": "execute_result"
    }
   ],
   "source": [
    "model.score(x_test, y_test) #score"
   ]
  },
  {
   "cell_type": "markdown",
   "metadata": {},
   "source": [
    "## Spearman’s Rank Correlation\n",
    "\n",
    "This statistical method quantifies the degree to which ranked variables are associated by a monotonic function, meaning an increasing or decreasing relationship. As a statistical hypothesis test, the method assumes that the samples are uncorrelated (fail to reject H0).\n",
    "\n",
    ">The Spearman rank-order correlation is a statistical procedure that is designed to measure the relationship between two variables on an ordinal scale of measurement.\n",
    "\n",
    ">— Nonparametric Statistics for Non-Statisticians: A Step-by-Step Approach, 2009.\n",
    "\n",
    "The intuition for the Spearman’s rank correlation is that it calculates a Pearson’s correlation (e.g. a parametric measure of correlation) using the rank values instead of the real values. Where the Pearson’s correlation is the calculation of the covariance (or expected difference of observations from the mean) between the two variables normalized by the variance or spread of both variables.\n",
    "\n",
    "Spearman’s rank correlation can be calculated in Python using the spearmanr() SciPy function.\n",
    "\n",
    "The function takes two real-valued samples as arguments and returns both the correlation coefficient in the range between -1 and 1 and the p-value for interpreting the significance of the coefficient."
   ]
  },
  {
   "cell_type": "code",
   "execution_count": 66,
   "metadata": {},
   "outputs": [
    {
     "name": "stdout",
     "output_type": "stream",
     "text": [
      "Spearmans correlation coefficient: 0.819\n",
      "Samples are correlated (reject H0) p=0.000\n"
     ]
    }
   ],
   "source": [
    "# importing sperman correlation\n",
    "from scipy.stats import spearmanr\n",
    "\n",
    "# prepare data\n",
    "x = df['speed']\n",
    "y = df['power']\n",
    "# calculate spearman's correlation\n",
    "coef, p = spearmanr(x, y)\n",
    "print('Spearmans correlation coefficient: %.3f' % coef)\n",
    "# interpret the significance\n",
    "alpha = 0.05\n",
    "if p > alpha:\n",
    "    print('Samples are uncorrelated (fail to reject H0) p=%.3f' % p)\n",
    "else:\n",
    "    print('Samples are correlated (reject H0) p=%.3f' % p)"
   ]
  },
  {
   "cell_type": "markdown",
   "metadata": {},
   "source": [
    "The statistical test reports a strong positive correlation with a value of 0.819. The p-value is close to zero, which means that the likelihood of observing the data given that the samples are uncorrelated is very unlikely (e.g. 95% confidence) and that we can reject the null hypothesis that the samples are uncorrelated."
   ]
  },
  {
   "cell_type": "markdown",
   "metadata": {},
   "source": [
    "## Kendall’s Rank Correlation\n",
    "\n",
    "The intuition for the test is that it calculates a normalized score for the number of matching or concordant rankings between the two samples. As such, the test is also referred to as Kendall’s concordance test.\n",
    "\n",
    "The Kendall’s rank correlation coefficient can be calculated in Python using the kendalltau() SciPy function. The test takes the two data samples as arguments and returns the correlation coefficient and the p-value. As a statistical hypothesis test, the method assumes (H0) that there is no association between the two samples.\n"
   ]
  },
  {
   "cell_type": "code",
   "execution_count": 67,
   "metadata": {},
   "outputs": [
    {
     "name": "stdout",
     "output_type": "stream",
     "text": [
      "Kendall correlation coefficient: 0.728\n",
      "Samples are correlated (reject H0) p=0.000\n"
     ]
    }
   ],
   "source": [
    "# importing kendall correaltion\n",
    "from scipy.stats import kendalltau\n",
    "\n",
    "# calculate kendall's correlation\n",
    "coef, p = kendalltau(x, y)\n",
    "print('Kendall correlation coefficient: %.3f' % coef)\n",
    "# interpret the significance\n",
    "alpha = 0.05\n",
    "if p > alpha:\n",
    "    print('Samples are uncorrelated (fail to reject H0) p=%.3f' % p)\n",
    "else:\n",
    "    print('Samples are correlated (reject H0) p=%.3f' % p)"
   ]
  },
  {
   "cell_type": "markdown",
   "metadata": {},
   "source": [
    "Running the example calculates the Kendall’s correlation coefficient as 0.728, which is highly correlated.\n",
    "\n",
    "The p-value is close to zero (and printed as zero), as with the Spearman’s test, meaning that we can confidently reject the null hypothesis that the samples are uncorrelated."
   ]
  },
  {
   "cell_type": "markdown",
   "metadata": {},
   "source": [
    "## Conclusion \n",
    "\n",
    "Spearman’s & Kendall’s Rank Correlation shows us that our data are strongly correlated. After trying Linear, Ridge, Lasso and LARS Lasso regressions all of them are equally effective, so the best choice would be to stick with Linear Regression to simplify.\n",
    "\n",
    "As I wanted to find the better way I tried Logistic regression and I found out it is pretty useless for our dataset even when I get rid of outliers.\n",
    "\n",
    "Next in line was Polynomial regression and it was great success with nearly 90% score. Seeing results best approach for our dataset would Polynomial regression with Linear regression for our second choice if we would like to keep it simple.\n"
   ]
  },
  {
   "cell_type": "markdown",
   "metadata": {},
   "source": [
    "**References:**\n",
    "\n",
    "- https://www.goodenergy.co.uk/media/1775/howawindturbineworks.jpg?width=640&height=&center=0.5,0.5&mode=crop\n",
    "\n",
    "- https://www.nationalgrid.com/stories/energy-explained/how-does-wind-turbine-work\n",
    "\n",
    "- https://www.pluralsight.com/guides/linear-lasso-ridge-regression-scikit-learn\n",
    "\n",
    "- https://www.seai.ie/technologies/wind-energy/\n",
    "\n",
    "- https://towardsdatascience.com/ridge-regression-python-example-f015345d936b\n",
    "\n",
    "- https://towardsdatascience.com/ridge-and-lasso-regression-a-complete-guide-with-python-scikit-learn-e20e34bcbf0b\n",
    "\n",
    "- https://realpython.com/linear-regression-in-python/\n",
    "\n",
    "- https://en.wikipedia.org/wiki/Least-angle_regression\n",
    "\n",
    "- https://towardsdatascience.com/simple-and-multiple-linear-regression-in-python-c928425168f9\n",
    "\n",
    "- https://jakevdp.github.io/PythonDataScienceHandbook/05.06-linear-regression.html\n",
    "\n",
    "- https://www.statisticshowto.com/lasso-regression/\n",
    "\n",
    "- https://saskeli.github.io/data-analysis-with-python-summer-2019/linear_regression.html\n",
    "\n",
    "- https://www.w3schools.com/python/python_ml_linear_regression.asp\n",
    "\n",
    "- https://www.geeksforgeeks.org/linear-regression-python-implementation/\n",
    "\n",
    "- https://www.kdnuggets.com/2019/03/beginners-guide-linear-regression-python-scikit-learn.html\n",
    "\n",
    "- https://towardsdatascience.com/an-introduction-to-linear-regression-for-data-science-9056bbcdf675\n",
    "\n",
    "- https://www.kaggle.com/ankitjha/comparing-regression-models\n",
    "\n",
    "- https://machinelearningmastery.com/compare-machine-learning-algorithms-python-scikit-learn/\n",
    "\n",
    "- https://www.datacamp.com/community/tutorials/understanding-logistic-regression-python\n",
    "\n",
    "- https://www.researchgate.net/post/Is_there_a_test_which_can_compare_which_of_two_regression_models_is_best_explains_more_variance\n",
    "\n",
    "- https://heartbeat.fritz.ai/logistic-regression-in-python-using-scikit-learn-d34e882eebb1\n",
    "\n",
    "- https://www.analyticsvidhya.com/blog/2015/08/comprehensive-guide-regression/\n",
    "\n",
    "- https://towardsdatascience.com/machine-learning-polynomial-regression-with-python-5328e4e8a386\n",
    "\n",
    "- https://www.w3schools.com/python/python_ml_polynomial_regression.asp\n",
    "\n",
    "- https://www.dailysmarty.com/posts/polynomial-regression\n",
    "\n",
    "- https://www.analyticsvidhya.com/blog/2015/08/comprehensive-guide-regression/\n",
    "\n",
    "- https://machinelearningmastery.com/how-to-calculate-nonparametric-rank-correlation-in-python/"
   ]
  }
 ],
 "metadata": {
  "kernelspec": {
   "display_name": "Python 3",
   "language": "python",
   "name": "python3"
  },
  "language_info": {
   "codemirror_mode": {
    "name": "ipython",
    "version": 3
   },
   "file_extension": ".py",
   "mimetype": "text/x-python",
   "name": "python",
   "nbconvert_exporter": "python",
   "pygments_lexer": "ipython3",
   "version": "3.8.3"
  }
 },
 "nbformat": 4,
 "nbformat_minor": 4
}
